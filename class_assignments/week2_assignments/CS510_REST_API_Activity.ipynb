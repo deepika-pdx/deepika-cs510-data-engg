{
 "cells": [
  {
   "cell_type": "code",
   "execution_count": 4,
   "id": "88677f3e",
   "metadata": {},
   "outputs": [],
   "source": [
    "import requests, json"
   ]
  },
  {
   "cell_type": "code",
   "execution_count": 78,
   "id": "feebea40",
   "metadata": {},
   "outputs": [],
   "source": [
    "base_url = \"http://api.openweathermap.org/data/2.5/weather\"\n",
    "api_key = \"5072f13e2453f9328a01ef3b462c7478\"\n",
    "city_name = \"Portland\"\n",
    "query_params = {\"appid\" : api_key, \"q\" : city_name}"
   ]
  },
  {
   "cell_type": "code",
   "execution_count": 67,
   "id": "b6fdb6b0",
   "metadata": {},
   "outputs": [
    {
     "data": {
      "text/plain": [
       "200"
      ]
     },
     "execution_count": 67,
     "metadata": {},
     "output_type": "execute_result"
    }
   ],
   "source": [
    "weather_response = requests.get(base_url, params = query_params)\n",
    "weather_response.status_code"
   ]
  },
  {
   "cell_type": "code",
   "execution_count": 68,
   "id": "8b268ad2",
   "metadata": {},
   "outputs": [
    {
     "name": "stdout",
     "output_type": "stream",
     "text": [
      "{'coord': {'lon': -122.6762, 'lat': 45.5234}, 'weather': [{'id': 803, 'main': 'Clouds', 'description': 'broken clouds', 'icon': '04d'}], 'base': 'stations', 'main': {'temp': 282.48, 'feels_like': 281.37, 'temp_min': 280.4, 'temp_max': 284.14, 'pressure': 1020, 'humidity': 71}, 'visibility': 10000, 'wind': {'speed': 2.24, 'deg': 327, 'gust': 5.22}, 'clouds': {'all': 82}, 'dt': 1681349777, 'sys': {'type': 2, 'id': 2037378, 'country': 'US', 'sunrise': 1681306234, 'sunset': 1681354319}, 'timezone': -25200, 'id': 5746545, 'name': 'Portland', 'cod': 200}\n"
     ]
    }
   ],
   "source": [
    "weather_response_json = weather_response.json()\n",
    "print(weather_response_json)"
   ]
  },
  {
   "cell_type": "code",
   "execution_count": 84,
   "id": "27a6041f",
   "metadata": {},
   "outputs": [
    {
     "name": "stdout",
     "output_type": "stream",
     "text": [
      "Is it raining in Portland?\n",
      "It is not raining in Portland.\n"
     ]
    }
   ],
   "source": [
    "if weather_response_json['cod'] != 404:\n",
    "    weather_object = weather_response_json['weather']\n",
    "    current_weather = weather_object[0]['main']\n",
    "    print(\"Is it raining in \"+ city_name + \"?\")\n",
    "    if 'rain' in current_weather:\n",
    "        print(\"Yes, it is currently raining in \"+ city_name + \".\")\n",
    "    else:\n",
    "        print(\"It is not raining in \"+ city_name + \".\")\n",
    "    \n",
    "    "
   ]
  },
  {
   "cell_type": "code",
   "execution_count": 104,
   "id": "c64bd63b",
   "metadata": {},
   "outputs": [],
   "source": [
    "daily_url = \"http://api.openweathermap.org/data/2.5/forecast\"\n",
    "lat = weather_response_json['coord']['lat']\n",
    "lon = weather_response_json['coord']['lon']\n",
    "query_params_daily = {\"appid\" : api_key, \"lat\" : lat, \"lon\": lon, \"cnt\" : \"40\"}"
   ]
  },
  {
   "cell_type": "code",
   "execution_count": 105,
   "id": "99f22239",
   "metadata": {},
   "outputs": [
    {
     "data": {
      "text/plain": [
       "200"
      ]
     },
     "execution_count": 105,
     "metadata": {},
     "output_type": "execute_result"
    }
   ],
   "source": [
    "weather_response_after_5_days = requests.get(daily_url, params = query_params_daily)\n",
    "weather_response_after_5_days.status_code"
   ]
  },
  {
   "cell_type": "code",
   "execution_count": 106,
   "id": "f0498b9c",
   "metadata": {},
   "outputs": [
    {
     "name": "stdout",
     "output_type": "stream",
     "text": [
      "{'cod': '200', 'message': 0, 'cnt': 40, 'list': [{'dt': 1681354800, 'main': {'temp': 282.34, 'feels_like': 282.34, 'temp_min': 278.38, 'temp_max': 282.34, 'pressure': 1018, 'sea_level': 1018, 'grnd_level': 1019, 'humidity': 72, 'temp_kf': 3.96}, 'weather': [{'id': 500, 'main': 'Rain', 'description': 'light rain', 'icon': '10n'}], 'clouds': {'all': 66}, 'wind': {'speed': 1.27, 'deg': 306, 'gust': 1.73}, 'visibility': 10000, 'pop': 0.68, 'rain': {'3h': 0.62}, 'sys': {'pod': 'n'}, 'dt_txt': '2023-04-13 03:00:00'}, {'dt': 1681365600, 'main': {'temp': 280.42, 'feels_like': 280.42, 'temp_min': 276.58, 'temp_max': 280.42, 'pressure': 1019, 'sea_level': 1019, 'grnd_level': 1019, 'humidity': 80, 'temp_kf': 3.84}, 'weather': [{'id': 803, 'main': 'Clouds', 'description': 'broken clouds', 'icon': '04n'}], 'clouds': {'all': 57}, 'wind': {'speed': 0.92, 'deg': 255, 'gust': 1.04}, 'visibility': 10000, 'pop': 0.42, 'sys': {'pod': 'n'}, 'dt_txt': '2023-04-13 06:00:00'}, {'dt': 1681376400, 'main': {'temp': 277.75, 'feels_like': 277.75, 'temp_min': 275.45, 'temp_max': 277.75, 'pressure': 1019, 'sea_level': 1019, 'grnd_level': 1019, 'humidity': 88, 'temp_kf': 2.3}, 'weather': [{'id': 802, 'main': 'Clouds', 'description': 'scattered clouds', 'icon': '03n'}], 'clouds': {'all': 37}, 'wind': {'speed': 0.65, 'deg': 234, 'gust': 0.64}, 'visibility': 10000, 'pop': 0.06, 'sys': {'pod': 'n'}, 'dt_txt': '2023-04-13 09:00:00'}, {'dt': 1681387200, 'main': {'temp': 274.91, 'feels_like': 274.91, 'temp_min': 274.91, 'temp_max': 274.91, 'pressure': 1020, 'sea_level': 1020, 'grnd_level': 1019, 'humidity': 97, 'temp_kf': 0}, 'weather': [{'id': 802, 'main': 'Clouds', 'description': 'scattered clouds', 'icon': '03n'}], 'clouds': {'all': 43}, 'wind': {'speed': 0.23, 'deg': 121, 'gust': 0.22}, 'visibility': 10000, 'pop': 0.01, 'sys': {'pod': 'n'}, 'dt_txt': '2023-04-13 12:00:00'}, {'dt': 1681398000, 'main': {'temp': 276.63, 'feels_like': 276.63, 'temp_min': 276.63, 'temp_max': 276.63, 'pressure': 1019, 'sea_level': 1019, 'grnd_level': 1018, 'humidity': 93, 'temp_kf': 0}, 'weather': [{'id': 804, 'main': 'Clouds', 'description': 'overcast clouds', 'icon': '04d'}], 'clouds': {'all': 100}, 'wind': {'speed': 0.88, 'deg': 163, 'gust': 1.68}, 'visibility': 10000, 'pop': 0, 'sys': {'pod': 'd'}, 'dt_txt': '2023-04-13 15:00:00'}, {'dt': 1681408800, 'main': {'temp': 280.16, 'feels_like': 280.16, 'temp_min': 280.16, 'temp_max': 280.16, 'pressure': 1018, 'sea_level': 1018, 'grnd_level': 1016, 'humidity': 74, 'temp_kf': 0}, 'weather': [{'id': 804, 'main': 'Clouds', 'description': 'overcast clouds', 'icon': '04d'}], 'clouds': {'all': 100}, 'wind': {'speed': 1.25, 'deg': 193, 'gust': 2.15}, 'visibility': 10000, 'pop': 0, 'sys': {'pod': 'd'}, 'dt_txt': '2023-04-13 18:00:00'}, {'dt': 1681419600, 'main': {'temp': 283.28, 'feels_like': 281.73, 'temp_min': 283.28, 'temp_max': 283.28, 'pressure': 1016, 'sea_level': 1016, 'grnd_level': 1014, 'humidity': 53, 'temp_kf': 0}, 'weather': [{'id': 804, 'main': 'Clouds', 'description': 'overcast clouds', 'icon': '04d'}], 'clouds': {'all': 100}, 'wind': {'speed': 1.19, 'deg': 206, 'gust': 1.68}, 'visibility': 10000, 'pop': 0.25, 'sys': {'pod': 'd'}, 'dt_txt': '2023-04-13 21:00:00'}, {'dt': 1681430400, 'main': {'temp': 283.55, 'feels_like': 282, 'temp_min': 283.55, 'temp_max': 283.55, 'pressure': 1014, 'sea_level': 1014, 'grnd_level': 1013, 'humidity': 52, 'temp_kf': 0}, 'weather': [{'id': 804, 'main': 'Clouds', 'description': 'overcast clouds', 'icon': '04d'}], 'clouds': {'all': 99}, 'wind': {'speed': 1.82, 'deg': 271, 'gust': 1.87}, 'visibility': 10000, 'pop': 0.42, 'sys': {'pod': 'd'}, 'dt_txt': '2023-04-14 00:00:00'}, {'dt': 1681441200, 'main': {'temp': 279.26, 'feels_like': 277.83, 'temp_min': 279.26, 'temp_max': 279.26, 'pressure': 1015, 'sea_level': 1015, 'grnd_level': 1013, 'humidity': 89, 'temp_kf': 0}, 'weather': [{'id': 500, 'main': 'Rain', 'description': 'light rain', 'icon': '10n'}], 'clouds': {'all': 97}, 'wind': {'speed': 1.98, 'deg': 352, 'gust': 3.83}, 'visibility': 10000, 'pop': 0.76, 'rain': {'3h': 0.37}, 'sys': {'pod': 'n'}, 'dt_txt': '2023-04-14 03:00:00'}, {'dt': 1681452000, 'main': {'temp': 278.29, 'feels_like': 278.29, 'temp_min': 278.29, 'temp_max': 278.29, 'pressure': 1015, 'sea_level': 1015, 'grnd_level': 1014, 'humidity': 92, 'temp_kf': 0}, 'weather': [{'id': 804, 'main': 'Clouds', 'description': 'overcast clouds', 'icon': '04n'}], 'clouds': {'all': 97}, 'wind': {'speed': 0.42, 'deg': 5, 'gust': 0.8}, 'visibility': 10000, 'pop': 0.49, 'sys': {'pod': 'n'}, 'dt_txt': '2023-04-14 06:00:00'}, {'dt': 1681462800, 'main': {'temp': 277.42, 'feels_like': 277.42, 'temp_min': 277.42, 'temp_max': 277.42, 'pressure': 1016, 'sea_level': 1016, 'grnd_level': 1015, 'humidity': 93, 'temp_kf': 0}, 'weather': [{'id': 804, 'main': 'Clouds', 'description': 'overcast clouds', 'icon': '04n'}], 'clouds': {'all': 85}, 'wind': {'speed': 0.57, 'deg': 30, 'gust': 0.73}, 'visibility': 10000, 'pop': 0.01, 'sys': {'pod': 'n'}, 'dt_txt': '2023-04-14 09:00:00'}, {'dt': 1681473600, 'main': {'temp': 277.73, 'feels_like': 277.73, 'temp_min': 277.73, 'temp_max': 277.73, 'pressure': 1016, 'sea_level': 1016, 'grnd_level': 1015, 'humidity': 92, 'temp_kf': 0}, 'weather': [{'id': 804, 'main': 'Clouds', 'description': 'overcast clouds', 'icon': '04n'}], 'clouds': {'all': 91}, 'wind': {'speed': 0.72, 'deg': 40, 'gust': 0.9}, 'visibility': 10000, 'pop': 0, 'sys': {'pod': 'n'}, 'dt_txt': '2023-04-14 12:00:00'}, {'dt': 1681484400, 'main': {'temp': 278.36, 'feels_like': 278.36, 'temp_min': 278.36, 'temp_max': 278.36, 'pressure': 1017, 'sea_level': 1017, 'grnd_level': 1016, 'humidity': 89, 'temp_kf': 0}, 'weather': [{'id': 804, 'main': 'Clouds', 'description': 'overcast clouds', 'icon': '04d'}], 'clouds': {'all': 100}, 'wind': {'speed': 0.76, 'deg': 34, 'gust': 0.92}, 'visibility': 10000, 'pop': 0, 'sys': {'pod': 'd'}, 'dt_txt': '2023-04-14 15:00:00'}, {'dt': 1681495200, 'main': {'temp': 281.49, 'feels_like': 281.49, 'temp_min': 281.49, 'temp_max': 281.49, 'pressure': 1018, 'sea_level': 1018, 'grnd_level': 1017, 'humidity': 71, 'temp_kf': 0}, 'weather': [{'id': 500, 'main': 'Rain', 'description': 'light rain', 'icon': '10d'}], 'clouds': {'all': 100}, 'wind': {'speed': 0.37, 'deg': 154, 'gust': 1.06}, 'visibility': 10000, 'pop': 0.2, 'rain': {'3h': 0.14}, 'sys': {'pod': 'd'}, 'dt_txt': '2023-04-14 18:00:00'}, {'dt': 1681506000, 'main': {'temp': 285.24, 'feels_like': 283.81, 'temp_min': 285.24, 'temp_max': 285.24, 'pressure': 1018, 'sea_level': 1018, 'grnd_level': 1016, 'humidity': 50, 'temp_kf': 0}, 'weather': [{'id': 803, 'main': 'Clouds', 'description': 'broken clouds', 'icon': '04d'}], 'clouds': {'all': 77}, 'wind': {'speed': 0.57, 'deg': 220, 'gust': 1.09}, 'visibility': 10000, 'pop': 0, 'sys': {'pod': 'd'}, 'dt_txt': '2023-04-14 21:00:00'}, {'dt': 1681516800, 'main': {'temp': 284.86, 'feels_like': 283.39, 'temp_min': 284.86, 'temp_max': 284.86, 'pressure': 1017, 'sea_level': 1017, 'grnd_level': 1016, 'humidity': 50, 'temp_kf': 0}, 'weather': [{'id': 804, 'main': 'Clouds', 'description': 'overcast clouds', 'icon': '04d'}], 'clouds': {'all': 86}, 'wind': {'speed': 1.38, 'deg': 283, 'gust': 1.4}, 'visibility': 10000, 'pop': 0, 'sys': {'pod': 'd'}, 'dt_txt': '2023-04-15 00:00:00'}, {'dt': 1681527600, 'main': {'temp': 281.4, 'feels_like': 281.4, 'temp_min': 281.4, 'temp_max': 281.4, 'pressure': 1017, 'sea_level': 1017, 'grnd_level': 1016, 'humidity': 69, 'temp_kf': 0}, 'weather': [{'id': 804, 'main': 'Clouds', 'description': 'overcast clouds', 'icon': '04n'}], 'clouds': {'all': 100}, 'wind': {'speed': 1.22, 'deg': 22, 'gust': 1.34}, 'visibility': 10000, 'pop': 0, 'sys': {'pod': 'n'}, 'dt_txt': '2023-04-15 03:00:00'}, {'dt': 1681538400, 'main': {'temp': 279.67, 'feels_like': 279.67, 'temp_min': 279.67, 'temp_max': 279.67, 'pressure': 1018, 'sea_level': 1018, 'grnd_level': 1017, 'humidity': 79, 'temp_kf': 0}, 'weather': [{'id': 804, 'main': 'Clouds', 'description': 'overcast clouds', 'icon': '04n'}], 'clouds': {'all': 100}, 'wind': {'speed': 0.74, 'deg': 40, 'gust': 0.88}, 'visibility': 10000, 'pop': 0, 'sys': {'pod': 'n'}, 'dt_txt': '2023-04-15 06:00:00'}, {'dt': 1681549200, 'main': {'temp': 278.17, 'feels_like': 278.17, 'temp_min': 278.17, 'temp_max': 278.17, 'pressure': 1018, 'sea_level': 1018, 'grnd_level': 1017, 'humidity': 84, 'temp_kf': 0}, 'weather': [{'id': 804, 'main': 'Clouds', 'description': 'overcast clouds', 'icon': '04n'}], 'clouds': {'all': 98}, 'wind': {'speed': 0.58, 'deg': 70, 'gust': 0.67}, 'visibility': 10000, 'pop': 0, 'sys': {'pod': 'n'}, 'dt_txt': '2023-04-15 09:00:00'}, {'dt': 1681560000, 'main': {'temp': 277.58, 'feels_like': 277.58, 'temp_min': 277.58, 'temp_max': 277.58, 'pressure': 1019, 'sea_level': 1019, 'grnd_level': 1018, 'humidity': 85, 'temp_kf': 0}, 'weather': [{'id': 804, 'main': 'Clouds', 'description': 'overcast clouds', 'icon': '04n'}], 'clouds': {'all': 97}, 'wind': {'speed': 0.57, 'deg': 169, 'gust': 0.59}, 'visibility': 10000, 'pop': 0, 'sys': {'pod': 'n'}, 'dt_txt': '2023-04-15 12:00:00'}, {'dt': 1681570800, 'main': {'temp': 279.22, 'feels_like': 279.22, 'temp_min': 279.22, 'temp_max': 279.22, 'pressure': 1020, 'sea_level': 1020, 'grnd_level': 1019, 'humidity': 79, 'temp_kf': 0}, 'weather': [{'id': 804, 'main': 'Clouds', 'description': 'overcast clouds', 'icon': '04d'}], 'clouds': {'all': 100}, 'wind': {'speed': 0.81, 'deg': 157, 'gust': 1.61}, 'visibility': 10000, 'pop': 0.03, 'sys': {'pod': 'd'}, 'dt_txt': '2023-04-15 15:00:00'}, {'dt': 1681581600, 'main': {'temp': 283.69, 'feels_like': 282.5, 'temp_min': 283.69, 'temp_max': 283.69, 'pressure': 1020, 'sea_level': 1020, 'grnd_level': 1019, 'humidity': 65, 'temp_kf': 0}, 'weather': [{'id': 804, 'main': 'Clouds', 'description': 'overcast clouds', 'icon': '04d'}], 'clouds': {'all': 100}, 'wind': {'speed': 2.44, 'deg': 199, 'gust': 4.76}, 'visibility': 10000, 'pop': 0, 'sys': {'pod': 'd'}, 'dt_txt': '2023-04-15 18:00:00'}, {'dt': 1681592400, 'main': {'temp': 286.74, 'feels_like': 285.49, 'temp_min': 286.74, 'temp_max': 286.74, 'pressure': 1020, 'sea_level': 1020, 'grnd_level': 1019, 'humidity': 51, 'temp_kf': 0}, 'weather': [{'id': 804, 'main': 'Clouds', 'description': 'overcast clouds', 'icon': '04d'}], 'clouds': {'all': 100}, 'wind': {'speed': 3.47, 'deg': 211, 'gust': 5.67}, 'visibility': 10000, 'pop': 0, 'sys': {'pod': 'd'}, 'dt_txt': '2023-04-15 21:00:00'}, {'dt': 1681603200, 'main': {'temp': 287.98, 'feels_like': 286.85, 'temp_min': 287.98, 'temp_max': 287.98, 'pressure': 1020, 'sea_level': 1020, 'grnd_level': 1019, 'humidity': 51, 'temp_kf': 0}, 'weather': [{'id': 804, 'main': 'Clouds', 'description': 'overcast clouds', 'icon': '04d'}], 'clouds': {'all': 99}, 'wind': {'speed': 2.83, 'deg': 200, 'gust': 5.37}, 'visibility': 10000, 'pop': 0, 'sys': {'pod': 'd'}, 'dt_txt': '2023-04-16 00:00:00'}, {'dt': 1681614000, 'main': {'temp': 284, 'feels_like': 283.02, 'temp_min': 284, 'temp_max': 284, 'pressure': 1020, 'sea_level': 1020, 'grnd_level': 1019, 'humidity': 72, 'temp_kf': 0}, 'weather': [{'id': 804, 'main': 'Clouds', 'description': 'overcast clouds', 'icon': '04n'}], 'clouds': {'all': 86}, 'wind': {'speed': 1.1, 'deg': 189, 'gust': 1.29}, 'visibility': 10000, 'pop': 0, 'sys': {'pod': 'n'}, 'dt_txt': '2023-04-16 03:00:00'}, {'dt': 1681624800, 'main': {'temp': 281.52, 'feels_like': 280.47, 'temp_min': 281.52, 'temp_max': 281.52, 'pressure': 1021, 'sea_level': 1021, 'grnd_level': 1020, 'humidity': 82, 'temp_kf': 0}, 'weather': [{'id': 803, 'main': 'Clouds', 'description': 'broken clouds', 'icon': '04n'}], 'clouds': {'all': 74}, 'wind': {'speed': 1.97, 'deg': 145, 'gust': 2.9}, 'visibility': 10000, 'pop': 0, 'sys': {'pod': 'n'}, 'dt_txt': '2023-04-16 06:00:00'}, {'dt': 1681635600, 'main': {'temp': 281.16, 'feels_like': 281.16, 'temp_min': 281.16, 'temp_max': 281.16, 'pressure': 1020, 'sea_level': 1020, 'grnd_level': 1019, 'humidity': 82, 'temp_kf': 0}, 'weather': [{'id': 804, 'main': 'Clouds', 'description': 'overcast clouds', 'icon': '04n'}], 'clouds': {'all': 96}, 'wind': {'speed': 1.09, 'deg': 142, 'gust': 1.29}, 'visibility': 10000, 'pop': 0, 'sys': {'pod': 'n'}, 'dt_txt': '2023-04-16 09:00:00'}, {'dt': 1681646400, 'main': {'temp': 280.94, 'feels_like': 280.94, 'temp_min': 280.94, 'temp_max': 280.94, 'pressure': 1018, 'sea_level': 1018, 'grnd_level': 1017, 'humidity': 82, 'temp_kf': 0}, 'weather': [{'id': 804, 'main': 'Clouds', 'description': 'overcast clouds', 'icon': '04n'}], 'clouds': {'all': 98}, 'wind': {'speed': 1.21, 'deg': 158, 'gust': 1.54}, 'visibility': 10000, 'pop': 0, 'sys': {'pod': 'n'}, 'dt_txt': '2023-04-16 12:00:00'}, {'dt': 1681657200, 'main': {'temp': 281.87, 'feels_like': 281.87, 'temp_min': 281.87, 'temp_max': 281.87, 'pressure': 1017, 'sea_level': 1017, 'grnd_level': 1015, 'humidity': 78, 'temp_kf': 0}, 'weather': [{'id': 804, 'main': 'Clouds', 'description': 'overcast clouds', 'icon': '04d'}], 'clouds': {'all': 100}, 'wind': {'speed': 1.18, 'deg': 165, 'gust': 2.44}, 'visibility': 10000, 'pop': 0, 'sys': {'pod': 'd'}, 'dt_txt': '2023-04-16 15:00:00'}, {'dt': 1681668000, 'main': {'temp': 285.86, 'feels_like': 284.75, 'temp_min': 285.86, 'temp_max': 285.86, 'pressure': 1015, 'sea_level': 1015, 'grnd_level': 1014, 'humidity': 60, 'temp_kf': 0}, 'weather': [{'id': 804, 'main': 'Clouds', 'description': 'overcast clouds', 'icon': '04d'}], 'clouds': {'all': 100}, 'wind': {'speed': 2.53, 'deg': 196, 'gust': 5.41}, 'visibility': 10000, 'pop': 0, 'sys': {'pod': 'd'}, 'dt_txt': '2023-04-16 18:00:00'}, {'dt': 1681678800, 'main': {'temp': 287.69, 'feels_like': 286.71, 'temp_min': 287.69, 'temp_max': 287.69, 'pressure': 1013, 'sea_level': 1013, 'grnd_level': 1012, 'humidity': 58, 'temp_kf': 0}, 'weather': [{'id': 804, 'main': 'Clouds', 'description': 'overcast clouds', 'icon': '04d'}], 'clouds': {'all': 100}, 'wind': {'speed': 4.53, 'deg': 187, 'gust': 9.04}, 'visibility': 10000, 'pop': 0, 'sys': {'pod': 'd'}, 'dt_txt': '2023-04-16 21:00:00'}, {'dt': 1681689600, 'main': {'temp': 286.21, 'feels_like': 285.58, 'temp_min': 286.21, 'temp_max': 286.21, 'pressure': 1011, 'sea_level': 1011, 'grnd_level': 1010, 'humidity': 77, 'temp_kf': 0}, 'weather': [{'id': 500, 'main': 'Rain', 'description': 'light rain', 'icon': '10d'}], 'clouds': {'all': 98}, 'wind': {'speed': 6.34, 'deg': 223, 'gust': 13.79}, 'visibility': 10000, 'pop': 0.73, 'rain': {'3h': 0.86}, 'sys': {'pod': 'd'}, 'dt_txt': '2023-04-17 00:00:00'}, {'dt': 1681700400, 'main': {'temp': 280.03, 'feels_like': 277.23, 'temp_min': 280.03, 'temp_max': 280.03, 'pressure': 1014, 'sea_level': 1014, 'grnd_level': 1013, 'humidity': 94, 'temp_kf': 0}, 'weather': [{'id': 500, 'main': 'Rain', 'description': 'light rain', 'icon': '10n'}], 'clouds': {'all': 100}, 'wind': {'speed': 4.18, 'deg': 202, 'gust': 10.5}, 'visibility': 10000, 'pop': 1, 'rain': {'3h': 2.9}, 'sys': {'pod': 'n'}, 'dt_txt': '2023-04-17 03:00:00'}, {'dt': 1681711200, 'main': {'temp': 279.27, 'feels_like': 276.85, 'temp_min': 279.27, 'temp_max': 279.27, 'pressure': 1017, 'sea_level': 1017, 'grnd_level': 1016, 'humidity': 90, 'temp_kf': 0}, 'weather': [{'id': 500, 'main': 'Rain', 'description': 'light rain', 'icon': '10n'}], 'clouds': {'all': 100}, 'wind': {'speed': 3.23, 'deg': 213, 'gust': 7.4}, 'visibility': 10000, 'pop': 1, 'rain': {'3h': 0.8}, 'sys': {'pod': 'n'}, 'dt_txt': '2023-04-17 06:00:00'}, {'dt': 1681722000, 'main': {'temp': 277.78, 'feels_like': 276.38, 'temp_min': 277.78, 'temp_max': 277.78, 'pressure': 1017, 'sea_level': 1017, 'grnd_level': 1016, 'humidity': 96, 'temp_kf': 0}, 'weather': [{'id': 500, 'main': 'Rain', 'description': 'light rain', 'icon': '10n'}], 'clouds': {'all': 97}, 'wind': {'speed': 1.74, 'deg': 158, 'gust': 4.63}, 'visibility': 10000, 'pop': 0.22, 'rain': {'3h': 0.12}, 'sys': {'pod': 'n'}, 'dt_txt': '2023-04-17 09:00:00'}, {'dt': 1681732800, 'main': {'temp': 277.52, 'feels_like': 275.96, 'temp_min': 277.52, 'temp_max': 277.52, 'pressure': 1016, 'sea_level': 1016, 'grnd_level': 1015, 'humidity': 95, 'temp_kf': 0}, 'weather': [{'id': 804, 'main': 'Clouds', 'description': 'overcast clouds', 'icon': '04n'}], 'clouds': {'all': 98}, 'wind': {'speed': 1.84, 'deg': 145, 'gust': 6.32}, 'visibility': 10000, 'pop': 0.11, 'sys': {'pod': 'n'}, 'dt_txt': '2023-04-17 12:00:00'}, {'dt': 1681743600, 'main': {'temp': 278.42, 'feels_like': 276.82, 'temp_min': 278.42, 'temp_max': 278.42, 'pressure': 1015, 'sea_level': 1015, 'grnd_level': 1014, 'humidity': 91, 'temp_kf': 0}, 'weather': [{'id': 500, 'main': 'Rain', 'description': 'light rain', 'icon': '10d'}], 'clouds': {'all': 100}, 'wind': {'speed': 2.01, 'deg': 145, 'gust': 6.86}, 'visibility': 10000, 'pop': 0.5, 'rain': {'3h': 0.2}, 'sys': {'pod': 'd'}, 'dt_txt': '2023-04-17 15:00:00'}, {'dt': 1681754400, 'main': {'temp': 280.47, 'feels_like': 278.78, 'temp_min': 280.47, 'temp_max': 280.47, 'pressure': 1013, 'sea_level': 1013, 'grnd_level': 1012, 'humidity': 82, 'temp_kf': 0}, 'weather': [{'id': 500, 'main': 'Rain', 'description': 'light rain', 'icon': '10d'}], 'clouds': {'all': 100}, 'wind': {'speed': 2.52, 'deg': 145, 'gust': 5.3}, 'visibility': 10000, 'pop': 0.5, 'rain': {'3h': 0.27}, 'sys': {'pod': 'd'}, 'dt_txt': '2023-04-17 18:00:00'}, {'dt': 1681765200, 'main': {'temp': 285.19, 'feels_like': 283.78, 'temp_min': 285.19, 'temp_max': 285.19, 'pressure': 1009, 'sea_level': 1009, 'grnd_level': 1008, 'humidity': 51, 'temp_kf': 0}, 'weather': [{'id': 500, 'main': 'Rain', 'description': 'light rain', 'icon': '10d'}], 'clouds': {'all': 100}, 'wind': {'speed': 1.31, 'deg': 316, 'gust': 2.6}, 'visibility': 10000, 'pop': 0.37, 'rain': {'3h': 0.15}, 'sys': {'pod': 'd'}, 'dt_txt': '2023-04-17 21:00:00'}, {'dt': 1681776000, 'main': {'temp': 285.51, 'feels_like': 284.11, 'temp_min': 285.51, 'temp_max': 285.51, 'pressure': 1004, 'sea_level': 1004, 'grnd_level': 1003, 'humidity': 50, 'temp_kf': 0}, 'weather': [{'id': 804, 'main': 'Clouds', 'description': 'overcast clouds', 'icon': '04d'}], 'clouds': {'all': 100}, 'wind': {'speed': 1.69, 'deg': 200, 'gust': 3.05}, 'visibility': 10000, 'pop': 0.27, 'sys': {'pod': 'd'}, 'dt_txt': '2023-04-18 00:00:00'}], 'city': {'id': 5746545, 'name': 'Portland', 'coord': {'lat': 45.5234, 'lon': -122.6762}, 'country': 'US', 'population': 583776, 'timezone': -25200, 'sunrise': 1681306234, 'sunset': 1681354319}}\n"
     ]
    }
   ],
   "source": [
    "weather_response_after_5_days_json = weather_response_after_5_days.json()\n",
    "print(weather_response_after_5_days_json)"
   ]
  },
  {
   "cell_type": "code",
   "execution_count": 125,
   "id": "fbc30b0d",
   "metadata": {},
   "outputs": [
    {
     "name": "stdout",
     "output_type": "stream",
     "text": [
      "Will it be raining when our class next meets?\n",
      "Yes\n"
     ]
    }
   ],
   "source": [
    "weather_forecast_list = weather_response_after_5_days_json['list']\n",
    "print(\"Will it be raining when our class next meets?\")\n",
    "next_class_day = weather_forecast_list[36][\"dt_txt\"]\n",
    "expected_weather = weather_forecast_list[36][\"weather\"][0][\"main\"]\n",
    "if \"2023-04-17\" in next_class_day:\n",
    "        if \"rain\" in expected_weather.lower():\n",
    "            print(\"Yes\")\n",
    "        else:\n",
    "            print(\"No\") \n",
    "            \n",
    "    "
   ]
  }
 ],
 "metadata": {
  "kernelspec": {
   "display_name": "Python 3 (ipykernel)",
   "language": "python",
   "name": "python3"
  },
  "language_info": {
   "codemirror_mode": {
    "name": "ipython",
    "version": 3
   },
   "file_extension": ".py",
   "mimetype": "text/x-python",
   "name": "python",
   "nbconvert_exporter": "python",
   "pygments_lexer": "ipython3",
   "version": "3.10.9"
  }
 },
 "nbformat": 4,
 "nbformat_minor": 5
}
