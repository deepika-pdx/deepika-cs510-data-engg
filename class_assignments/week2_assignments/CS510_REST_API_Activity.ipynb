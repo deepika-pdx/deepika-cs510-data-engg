{
 "cells": [
  {
   "cell_type": "code",
   "execution_count": 15,
   "id": "88677f3e",
   "metadata": {},
   "outputs": [],
   "source": [
    "import requests, json"
   ]
  },
  {
   "cell_type": "code",
   "execution_count": 16,
   "id": "feebea40",
   "metadata": {},
   "outputs": [],
   "source": [
    "base_url = \"http://api.openweathermap.org/data/2.5/weather\"\n",
    "api_key = \"5072f13e2453f9328a01ef3b462c7478\"\n",
    "city_name = \"Portland\"\n",
    "query_params = {\"appid\" : api_key, \"q\" : city_name}"
   ]
  },
  {
   "cell_type": "code",
   "execution_count": 17,
   "id": "b6fdb6b0",
   "metadata": {},
   "outputs": [
    {
     "data": {
      "text/plain": [
       "200"
      ]
     },
     "execution_count": 17,
     "metadata": {},
     "output_type": "execute_result"
    }
   ],
   "source": [
    "weather_response = requests.get(base_url, params = query_params)\n",
    "weather_response.status_code"
   ]
  },
  {
   "cell_type": "code",
   "execution_count": 18,
   "id": "8b268ad2",
   "metadata": {},
   "outputs": [],
   "source": [
    "weather_response_json = weather_response.json()\n",
    "#print(weather_response_json)"
   ]
  },
  {
   "cell_type": "code",
   "execution_count": 19,
   "id": "27a6041f",
   "metadata": {},
   "outputs": [
    {
     "name": "stdout",
     "output_type": "stream",
     "text": [
      "Is it raining in Portland?\n",
      "It is not raining in Portland.\n"
     ]
    }
   ],
   "source": [
    "if weather_response_json['cod'] != 404:\n",
    "    weather_object = weather_response_json['weather']\n",
    "    current_weather = weather_object[0]['main']\n",
    "    print(\"Is it raining in \"+ city_name + \"?\")\n",
    "    if 'rain' in current_weather:\n",
    "        print(\"Yes, it is currently raining in \"+ city_name + \".\")\n",
    "    else:\n",
    "        print(\"It is not raining in \"+ city_name + \".\")\n",
    "    \n",
    "    "
   ]
  },
  {
   "cell_type": "code",
   "execution_count": 20,
   "id": "c64bd63b",
   "metadata": {},
   "outputs": [],
   "source": [
    "daily_url = \"http://api.openweathermap.org/data/2.5/forecast\"\n",
    "lat = weather_response_json['coord']['lat']\n",
    "lon = weather_response_json['coord']['lon']\n",
    "query_params_daily = {\"appid\" : api_key, \"lat\" : lat, \"lon\": lon, \"cnt\" : \"40\"}"
   ]
  },
  {
   "cell_type": "code",
   "execution_count": 21,
   "id": "99f22239",
   "metadata": {},
   "outputs": [
    {
     "data": {
      "text/plain": [
       "200"
      ]
     },
     "execution_count": 21,
     "metadata": {},
     "output_type": "execute_result"
    }
   ],
   "source": [
    "weather_response_after_5_days = requests.get(daily_url, params = query_params_daily)\n",
    "weather_response_after_5_days.status_code"
   ]
  },
  {
   "cell_type": "code",
   "execution_count": 22,
   "id": "f0498b9c",
   "metadata": {},
   "outputs": [],
   "source": [
    "weather_response_after_5_days_json = weather_response_after_5_days.json()\n",
    "#print(weather_response_after_5_days_json)"
   ]
  },
  {
   "cell_type": "code",
   "execution_count": 23,
   "id": "fbc30b0d",
   "metadata": {},
   "outputs": [
    {
     "name": "stdout",
     "output_type": "stream",
     "text": [
      "Will it be raining when our class next meets?\n",
      "Yes\n"
     ]
    }
   ],
   "source": [
    "weather_forecast_list = weather_response_after_5_days_json['list']\n",
    "print(\"Will it be raining when our class next meets?\")\n",
    "next_class_day = weather_forecast_list[31][\"dt_txt\"]\n",
    "expected_weather = weather_forecast_list[31][\"weather\"][0][\"main\"]\n",
    "if \"2023-04-17\" in next_class_day:\n",
    "        if \"rain\" in expected_weather.lower():\n",
    "            print(\"Yes\")\n",
    "        else:\n",
    "            print(\"No\") \n",
    "            \n",
    "    "
   ]
  }
 ],
 "metadata": {
  "kernelspec": {
   "display_name": "Python 3 (ipykernel)",
   "language": "python",
   "name": "python3"
  },
  "language_info": {
   "codemirror_mode": {
    "name": "ipython",
    "version": 3
   },
   "file_extension": ".py",
   "mimetype": "text/x-python",
   "name": "python",
   "nbconvert_exporter": "python",
   "pygments_lexer": "ipython3",
   "version": "3.10.9"
  }
 },
 "nbformat": 4,
 "nbformat_minor": 5
}
